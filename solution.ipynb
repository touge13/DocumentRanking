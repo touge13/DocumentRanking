{
 "cells": [
  {
   "cell_type": "markdown",
   "metadata": {},
   "source": [
    "Подключение необходимых библиотек:"
   ]
  },
  {
   "cell_type": "code",
   "execution_count": null,
   "metadata": {},
   "outputs": [],
   "source": [
    "import pandas as pd\n",
    "import numpy as np\n",
    "import seaborn as sns\n",
    "import matplotlib.pyplot as plt\n",
    "from sklearn.model_selection import train_test_split\n",
    "from sklearn.preprocessing import StandardScaler\n",
    "from sklearn.ensemble import RandomForestRegressor\n",
    "from sklearn.metrics import ndcg_score, average_precision_score"
   ]
  },
  {
   "cell_type": "markdown",
   "metadata": {},
   "source": [
    "### Шаг 1: Подготовка и проверка датасета\n"
   ]
  },
  {
   "cell_type": "markdown",
   "metadata": {},
   "source": [
    "\n",
    "1. **Загрузка данных**: Начнем с загрузки данных из файла intern_task.csv и ознакомления с его структурой и содержимым.\n"
   ]
  },
  {
   "cell_type": "code",
   "execution_count": null,
   "metadata": {},
   "outputs": [],
   "source": [
    "df = pd.read_csv('intern_task.csv')\n",
    "\n",
    "# Посмотрим первые 5 строк данных\n",
    "df.head()"
   ]
  },
  {
   "cell_type": "markdown",
   "metadata": {},
   "source": [
    "2. **Изучение данных**: Проанализируем основные статистики данных, проверим наличие пропущенных значений и оценим распределение значений признаков."
   ]
  },
  {
   "cell_type": "markdown",
   "metadata": {},
   "source": [
    "**df.describe()**: Этот метод выводит основные статистические характеристики числовых признаков в DataFrame, такие как среднее, стандартное отклонение, минимум, максимум и квартили. Это предоставляет общее представление о распределении числовых данных."
   ]
  },
  {
   "cell_type": "code",
   "execution_count": null,
   "metadata": {},
   "outputs": [],
   "source": [
    "print(df.describe())"
   ]
  },
  {
   "cell_type": "markdown",
   "metadata": {},
   "source": [
    "**df.nunique()**: Этот метод возвращает количество уникальных значений для каждого признака в DataFrame. Это полезно для определения количества различных категорий или уровней в категориальных признаках."
   ]
  },
  {
   "cell_type": "code",
   "execution_count": null,
   "metadata": {},
   "outputs": [],
   "source": [
    "print(df.nunique())"
   ]
  },
  {
   "cell_type": "markdown",
   "metadata": {},
   "source": [
    "**df.isnull().sum()**: Подсчет количества пропущенных значений по каждому признаку."
   ]
  },
  {
   "cell_type": "code",
   "execution_count": null,
   "metadata": {},
   "outputs": [],
   "source": [
    "missing_values = df.isnull().sum()\n",
    "print(missing_values)\n",
    "\n",
    "plt.figure(figsize=(10, 6))\n",
    "sns.heatmap(df.isnull(), cmap='viridis', cbar=False)\n",
    "plt.title('Пропущенные значения')\n",
    "plt.show()"
   ]
  },
  {
   "cell_type": "markdown",
   "metadata": {},
   "source": [
    "Видим, что пропущенных значений не обнаружено, поэтому их обработка не требуется."
   ]
  },
  {
   "cell_type": "markdown",
   "metadata": {},
   "source": [
    "Оценка распределения значений признаков:"
   ]
  },
  {
   "cell_type": "code",
   "execution_count": null,
   "metadata": {},
   "outputs": [],
   "source": [
    "# Визуализация распределения числовых признаков\n",
    "df.hist(bins=20, figsize=(12, 10))\n",
    "plt.suptitle('Распределение числовых признаков', x=0.5, y=1.02, ha='center', fontsize='large')\n",
    "plt.tight_layout()\n",
    "plt.show()\n",
    "\n",
    "# Визуализация распределения категориальных признаков\n",
    "for column in df.select_dtypes(include=['object']):\n",
    "    plt.figure(figsize=(15, 10))\n",
    "    df[column].value_counts().plot(kind='bar', color='skyblue')\n",
    "    plt.title(f'Распределение значений признака {column}')\n",
    "    plt.xlabel(column)\n",
    "    plt.ylabel('Частота')\n",
    "    plt.xticks(rotation=45)\n",
    "    plt.show()\n"
   ]
  },
  {
   "cell_type": "markdown",
   "metadata": {},
   "source": [
    "3. **Подготовка данных**: Разделим данные на признаки (X) и целевую переменную (y), а затем отмасштабируем признаки."
   ]
  },
  {
   "cell_type": "code",
   "execution_count": null,
   "metadata": {},
   "outputs": [],
   "source": [
    "X = df.drop(columns=['rank', 'query_id'])\n",
    "y = df['rank']\n",
    "\n",
    "scaler = StandardScaler()\n",
    "X_scaled = scaler.fit_transform(X)"
   ]
  },
  {
   "cell_type": "markdown",
   "metadata": {},
   "source": [
    "**df.corr()**: Этот метод вычисляет корреляционную матрицу между числовыми признаками в DataFrame. Корреляция показывает степень линейной зависимости между двумя переменными. Значения корреляции находятся в диапазоне от -1 до 1, где близкие к 1 значения указывают на положительную линейную зависимость, значения близкие к -1 указывают на отрицательную линейную зависимость, а значения близкие к 0 указывают на отсутствие линейной зависимости."
   ]
  },
  {
   "cell_type": "code",
   "execution_count": null,
   "metadata": {},
   "outputs": [],
   "source": [
    "print(df.corr())"
   ]
  },
  {
   "cell_type": "markdown",
   "metadata": {},
   "source": [
    "Визуализация распределения целевой переменной (rank)"
   ]
  },
  {
   "cell_type": "code",
   "execution_count": null,
   "metadata": {},
   "outputs": [],
   "source": [
    "plt.figure(figsize=(8, 6))\n",
    "sns.histplot(y, kde=True)\n",
    "plt.title('Распределение целевой переменной (rank)')\n",
    "plt.xlabel('Rank')\n",
    "plt.ylabel('Частота')\n",
    "plt.show()"
   ]
  },
  {
   "cell_type": "markdown",
   "metadata": {},
   "source": [
    "\n",
    "### Шаг 2: Обучение модели ранжирования\n"
   ]
  },
  {
   "cell_type": "markdown",
   "metadata": {},
   "source": [
    "1. **Разделение данных**: Разделим данные на обучающий и тестовый наборы."
   ]
  },
  {
   "cell_type": "code",
   "execution_count": null,
   "metadata": {},
   "outputs": [],
   "source": [
    "X_train, X_test, y_train, y_test = train_test_split(X_scaled, y, test_size=0.2, random_state=42)"
   ]
  },
  {
   "cell_type": "markdown",
   "metadata": {},
   "source": [
    "2. **Обучение модели**: Обучим выбранную модель на обучающем наборе данных."
   ]
  },
  {
   "cell_type": "code",
   "execution_count": null,
   "metadata": {},
   "outputs": [],
   "source": [
    "# Создание и обучение модели RandomForestRegressor\n",
    "rf_model = RandomForestRegressor(random_state=42)\n",
    "rf_model.fit(X_train, y_train)"
   ]
  },
  {
   "cell_type": "markdown",
   "metadata": {},
   "source": [
    "\n",
    "### Шаг 3: Оценка модели\n"
   ]
  },
  {
   "cell_type": "markdown",
   "metadata": {},
   "source": [
    "1. Получим предсказания рангов на тестовом наборе."
   ]
  },
  {
   "cell_type": "code",
   "execution_count": null,
   "metadata": {},
   "outputs": [],
   "source": [
    "y_pred = rf_model.predict(X_test)"
   ]
  },
  {
   "cell_type": "markdown",
   "metadata": {},
   "source": [
    "2. **Вычисление метрики ранжирования NDCG (Normalized Discounted Cumulative Gain)**\n",
    "\n",
    "NDCG оценивает качество ранжирования путем учета как порядка предсказанных результатов, так и их уровня релевантности."
   ]
  },
  {
   "cell_type": "code",
   "execution_count": null,
   "metadata": {},
   "outputs": [],
   "source": [
    "ndcg_5 = ndcg_score(np.expand_dims(y_test, axis=0), np.expand_dims(y_pred, axis=0), k=5)\n",
    "print(\"NDCG@5 на тестовом наборе данных:\", ndcg_5)"
   ]
  },
  {
   "cell_type": "markdown",
   "metadata": {},
   "source": [
    "3. **Вычисление средней точности Mean Average Precision (MAP)**\n",
    "\n",
    "MAP оценивает качество ранжирования путем вычисления среднего значения точности (Precision) для каждого уровня релевантности истинных меток (ground truth) на заданном числе верхних позиций (rank)."
   ]
  },
  {
   "cell_type": "code",
   "execution_count": null,
   "metadata": {},
   "outputs": [],
   "source": [
    "y_test_reshape = np.array(y_test).reshape(-1, 1)\n",
    "y_pred_reshape = np.array(y_pred).reshape(-1, 1)\n",
    "\n",
    "map_score = average_precision_score(y_test_reshape, y_pred_reshape)\n",
    "print(f\"Mean Average Precision (MAP): {map_score}\")"
   ]
  },
  {
   "cell_type": "markdown",
   "metadata": {},
   "source": [
    "4. **Вычисляем Mean Reciprocal Rank (MRR)**\n",
    "\n",
    "MRR оценивает качество ранжирования по первому верному результату. Он вычисляется как средний обратный ранг первого верного результата по всем запросам."
   ]
  },
  {
   "cell_type": "code",
   "execution_count": null,
   "metadata": {},
   "outputs": [],
   "source": [
    "def mean_reciprocal_rank(y_true, y_pred):\n",
    "    # Сортируем индексы предсказанных значений по убыванию вероятности\n",
    "    sorted_indexes = np.argsort(y_pred)[::-1]\n",
    "    \n",
    "    for idx in sorted_indexes:\n",
    "        # Находим первый индекс, для которого y_true равно 1 (соответствует релевантному результату)\n",
    "        if y_true[idx] == 1:\n",
    "            # Возвращаем обратную величину ранга\n",
    "            return 1 / (idx + 1)\n",
    "    \n",
    "    # Если ни один релевантный результат не найден\n",
    "    return 0\n",
    "\n",
    "# Вычисляем взаимные ранги\n",
    "reciprocal_ranks = [mean_reciprocal_rank(y_test, y_pred) for y_test, y_pred in zip(y_test_reshape, y_pred_reshape)]\n",
    "\n",
    "# Фильтруем значения None (если они есть)\n",
    "valid_reciprocal_ranks = [rr for rr in reciprocal_ranks if rr is not None]\n",
    "\n",
    "# Вычисляем среднее значение действительных взаимных рангов\n",
    "mrr_score = np.mean(valid_reciprocal_ranks)\n",
    "print(f\"Mean Reciprocal Rank (MRR): {mrr_score}\")\n"
   ]
  },
  {
   "cell_type": "markdown",
   "metadata": {},
   "source": [
    "### Шаг 4: Сводка результатов\n",
    "\n",
    "После выполнения всех шагов анализа и обучения модели ранжирования, получены следующие результаты:\n",
    "\n",
    "1. **Подготовка и проверка датасета**: В процессе подготовки данных были загружены, изучены и предобработаны данные из файла `intern_task.csv`. Датасет содержит числовые и категориальные признаки. Пропущенных значений не обнаружено. Распределение признаков визуализировано для оценки характеристик данных.\n",
    "\n",
    "2. **Обучение модели ранжирования**: Данные были разделены на обучающий и тестовый наборы. Затем была обучена модель `RandomForestRegressor` на отмасштабированных признаках.\n",
    "\n",
    "3. **Оценка модели**:\n",
    "    - **NDCG@5 (Normalized Discounted Cumulative Gain)**: Получено значение NDCG@5 на тестовом наборе данных.\n",
    "    - **MAP (Mean Average Precision)**: Рассчитано среднее значение точности модели.\n",
    "    - **MRR (Mean Reciprocal Rank)**: Вычислено среднее взаимное значение рангов первого верного результата."
   ]
  }
 ],
 "metadata": {
  "kernelspec": {
   "display_name": "Python 3",
   "language": "python",
   "name": "python3"
  },
  "language_info": {
   "codemirror_mode": {
    "name": "ipython",
    "version": 3
   },
   "file_extension": ".py",
   "mimetype": "text/x-python",
   "name": "python",
   "nbconvert_exporter": "python",
   "pygments_lexer": "ipython3",
   "version": "3.12.2"
  }
 },
 "nbformat": 4,
 "nbformat_minor": 2
}
